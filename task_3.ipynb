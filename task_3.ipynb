{
  "nbformat": 4,
  "nbformat_minor": 0,
  "metadata": {
    "colab": {
      "provenance": []
    },
    "kernelspec": {
      "name": "python3",
      "display_name": "Python 3"
    },
    "language_info": {
      "name": "python"
    }
  },
  "cells": [
    {
      "cell_type": "code",
      "execution_count": null,
      "metadata": {
        "colab": {
          "base_uri": "https://localhost:8080/"
        },
        "id": "SHAqa98ju6pu",
        "outputId": "28a2cf47-5d81-47dc-bc94-b761a90e663e"
      },
      "outputs": [
        {
          "output_type": "stream",
          "name": "stdout",
          "text": [
            "enter first number5\n",
            "enter second number5\n",
            "multiplication of two number = 25\n"
          ]
        }
      ],
      "source": [
        "#(multtiplication of two numbers)\n",
        "a= int(input(\"enter first number\"))\n",
        "b= int(input(\"enter second number\"))\n",
        "c= a*b\n",
        "print(\"multiplication of two number =\", c)"
      ]
    }
  ]
}