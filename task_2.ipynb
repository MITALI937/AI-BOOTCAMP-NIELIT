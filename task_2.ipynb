{
  "nbformat": 4,
  "nbformat_minor": 0,
  "metadata": {
    "colab": {
      "provenance": []
    },
    "kernelspec": {
      "name": "python3",
      "display_name": "Python 3"
    },
    "language_info": {
      "name": "python"
    }
  },
  "cells": [
    {
      "cell_type": "code",
      "execution_count": null,
      "metadata": {
        "colab": {
          "base_uri": "https://localhost:8080/"
        },
        "id": "GNFXCArnbIlP",
        "outputId": "c6d1c19b-7012-4a8e-acab-1ead44f31f77"
      },
      "outputs": [
        {
          "output_type": "stream",
          "name": "stdout",
          "text": [
            "value of sum= 77\n"
          ]
        }
      ],
      "source": [
        "#sum of the two number\n",
        "a=56\n",
        "#sum of the two number\n",
        "a=56\n",
        "b=21\n",
        "c=a+b\n",
        "print(\"value of sum=\",c)"
      ]
    },
    {
      "cell_type": "code",
      "source": [],
      "metadata": {
        "id": "jqWyFjacePSE"
      },
      "execution_count": null,
      "outputs": []
    }
  ]
}